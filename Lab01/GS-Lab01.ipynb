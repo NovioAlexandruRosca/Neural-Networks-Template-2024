{
 "metadata": {
  "kernelspec": {
   "language": "python",
   "display_name": "Python 3",
   "name": "python3"
  },
  "language_info": {
   "name": "python",
   "version": "3.10.14",
   "mimetype": "text/x-python",
   "codemirror_mode": {
    "name": "ipython",
    "version": 3
   },
   "pygments_lexer": "ipython3",
   "nbconvert_exporter": "python",
   "file_extension": ".py"
  },
  "kaggle": {
   "accelerator": "none",
   "dataSources": [],
   "dockerImageVersionId": 30775,
   "isInternetEnabled": true,
   "language": "python",
   "sourceType": "notebook",
   "isGpuEnabled": false
  },
  "colab": {
   "name": "RN-2024-Lab01",
   "provenance": [],
   "include_colab_link": true
  }
 },
 "nbformat_minor": 0,
 "nbformat": 4,
 "cells": [
  {
   "cell_type": "markdown",
   "metadata": {
    "id": "view-in-github",
    "colab_type": "text"
   },
   "source": [
    "<a href=\"https://colab.research.google.com/github/Tensor-Reloaded/Neural-Networks-Template-2024/blob/main/Lab01/GS-Lab01.ipynb\" target=\"_parent\"><img src=\"https://colab.research.google.com/assets/colab-badge.svg\" alt=\"Open In Colab\"/></a>"
   ]
  },
  {
   "cell_type": "markdown",
   "source": [
    "# Python fundamentals"
   ],
   "metadata": {
    "id": "_a3mzLZrN76-"
   }
  },
  {
   "cell_type": "markdown",
   "source": [
    "### Data types"
   ],
   "metadata": {
    "id": "gXqYekvjN76-"
   }
  },
  {
   "cell_type": "code",
   "source": [
    "a = 5\n",
    "print(type(a))"
   ],
   "metadata": {
    "execution": {
     "iopub.status.busy": "2024-10-02T11:44:03.950493Z",
     "iopub.execute_input": "2024-10-02T11:44:03.951372Z",
     "iopub.status.idle": "2024-10-02T11:44:03.983787Z",
     "shell.execute_reply.started": "2024-10-02T11:44:03.951322Z",
     "shell.execute_reply": "2024-10-02T11:44:03.982322Z"
    },
    "trusted": true,
    "id": "3MhBylJEN76_",
    "outputId": "c419c283-d10e-411e-eebe-ba4135a6efaf",
    "colab": {
     "base_uri": "https://localhost:8080/"
    },
    "ExecuteTime": {
     "end_time": "2024-10-07T15:19:30.815886300Z",
     "start_time": "2024-10-07T15:19:30.764708700Z"
    }
   },
   "execution_count": 1,
   "outputs": [
    {
     "name": "stdout",
     "output_type": "stream",
     "text": [
      "<class 'int'>\n"
     ]
    }
   ]
  },
  {
   "cell_type": "code",
   "source": [
    "a = 5.0\n",
    "print(type(a))"
   ],
   "metadata": {
    "execution": {
     "iopub.status.busy": "2024-10-02T11:44:36.109006Z",
     "iopub.execute_input": "2024-10-02T11:44:36.10948Z",
     "iopub.status.idle": "2024-10-02T11:44:36.117591Z",
     "shell.execute_reply.started": "2024-10-02T11:44:36.109437Z",
     "shell.execute_reply": "2024-10-02T11:44:36.116327Z"
    },
    "trusted": true,
    "id": "wodi_gU9N76_",
    "outputId": "126bca12-4c64-43dc-9a25-fbaca73d0f3c",
    "colab": {
     "base_uri": "https://localhost:8080/"
    },
    "ExecuteTime": {
     "end_time": "2024-10-07T15:19:30.819586300Z",
     "start_time": "2024-10-07T15:19:30.769709100Z"
    }
   },
   "execution_count": 2,
   "outputs": [
    {
     "name": "stdout",
     "output_type": "stream",
     "text": [
      "<class 'float'>\n"
     ]
    }
   ]
  },
  {
   "cell_type": "code",
   "source": [
    "a = \"5\"\n",
    "print(type(a))"
   ],
   "metadata": {
    "execution": {
     "iopub.status.busy": "2024-10-02T11:45:05.270755Z",
     "iopub.execute_input": "2024-10-02T11:45:05.271206Z",
     "iopub.status.idle": "2024-10-02T11:45:05.279648Z",
     "shell.execute_reply.started": "2024-10-02T11:45:05.27116Z",
     "shell.execute_reply": "2024-10-02T11:45:05.278196Z"
    },
    "trusted": true,
    "id": "tHznwFqRN77A",
    "outputId": "0756c44d-d0bb-4633-a763-502f8dba2b56",
    "colab": {
     "base_uri": "https://localhost:8080/"
    },
    "ExecuteTime": {
     "end_time": "2024-10-07T15:19:30.910759100Z",
     "start_time": "2024-10-07T15:19:30.776870Z"
    }
   },
   "execution_count": 3,
   "outputs": [
    {
     "name": "stdout",
     "output_type": "stream",
     "text": [
      "<class 'str'>\n"
     ]
    }
   ]
  },
  {
   "cell_type": "code",
   "source": [
    "a = True\n",
    "print(type(a))"
   ],
   "metadata": {
    "execution": {
     "iopub.status.busy": "2024-10-02T11:45:06.795423Z",
     "iopub.execute_input": "2024-10-02T11:45:06.796862Z",
     "iopub.status.idle": "2024-10-02T11:45:06.804179Z",
     "shell.execute_reply.started": "2024-10-02T11:45:06.796802Z",
     "shell.execute_reply": "2024-10-02T11:45:06.802988Z"
    },
    "trusted": true,
    "id": "djbJqdr6N77A",
    "outputId": "dbbc12a5-3d3e-43c0-fd1b-8d7d633fcd16",
    "colab": {
     "base_uri": "https://localhost:8080/"
    },
    "ExecuteTime": {
     "end_time": "2024-10-07T15:19:30.910759100Z",
     "start_time": "2024-10-07T15:19:30.784996400Z"
    }
   },
   "execution_count": 4,
   "outputs": [
    {
     "name": "stdout",
     "output_type": "stream",
     "text": [
      "<class 'bool'>\n"
     ]
    }
   ]
  },
  {
   "cell_type": "markdown",
   "source": [
    "## Containers"
   ],
   "metadata": {
    "id": "QGqwl2wbN77A"
   }
  },
  {
   "cell_type": "code",
   "source": [
    "a_list = [1, 2, 2, 3.0, \"5\"]\n",
    "print(a_list)\n",
    "print(type(a_list))"
   ],
   "metadata": {
    "execution": {
     "iopub.status.busy": "2024-10-02T11:49:29.58574Z",
     "iopub.execute_input": "2024-10-02T11:49:29.586322Z",
     "iopub.status.idle": "2024-10-02T11:49:29.594511Z",
     "shell.execute_reply.started": "2024-10-02T11:49:29.586194Z",
     "shell.execute_reply": "2024-10-02T11:49:29.592585Z"
    },
    "trusted": true,
    "id": "lZIuCa6RN77A",
    "outputId": "04899e4e-9d3a-43d7-bcfd-310e094f5043",
    "colab": {
     "base_uri": "https://localhost:8080/"
    },
    "ExecuteTime": {
     "end_time": "2024-10-07T15:19:30.910759100Z",
     "start_time": "2024-10-07T15:19:30.792308700Z"
    }
   },
   "execution_count": 5,
   "outputs": [
    {
     "name": "stdout",
     "output_type": "stream",
     "text": [
      "[1, 2, 2, 3.0, '5']\n",
      "<class 'list'>\n"
     ]
    }
   ]
  },
  {
   "cell_type": "code",
   "source": [
    "a_set = set(a_list)\n",
    "print(a_set)\n",
    "print(type(a_set))\n",
    "a_set = {1, 2, 3, 4}\n",
    "print(a_set)"
   ],
   "metadata": {
    "execution": {
     "iopub.status.busy": "2024-10-02T11:49:31.006854Z",
     "iopub.execute_input": "2024-10-02T11:49:31.00734Z",
     "iopub.status.idle": "2024-10-02T11:49:31.015648Z",
     "shell.execute_reply.started": "2024-10-02T11:49:31.007296Z",
     "shell.execute_reply": "2024-10-02T11:49:31.014282Z"
    },
    "trusted": true,
    "id": "a0KAR2ExN77B",
    "outputId": "e0499764-c938-4094-c78e-5f230bf96fd5",
    "colab": {
     "base_uri": "https://localhost:8080/"
    },
    "ExecuteTime": {
     "end_time": "2024-10-07T15:19:30.911758800Z",
     "start_time": "2024-10-07T15:19:30.797887900Z"
    }
   },
   "execution_count": 6,
   "outputs": [
    {
     "name": "stdout",
     "output_type": "stream",
     "text": [
      "{1, 2, 3.0, '5'}\n",
      "<class 'set'>\n",
      "{1, 2, 3, 4}\n"
     ]
    }
   ]
  },
  {
   "cell_type": "code",
   "source": [
    "a_dict = {1: \"unu\", \"doi\": 2, 3.0: a_set}\n",
    "print(\"Keys:\\t\", list(a_dict.keys()))\n",
    "print(\"Values:\\t\", list(a_dict.values()))\n",
    "print(a_dict)\n",
    "print(type(a_dict))"
   ],
   "metadata": {
    "_uuid": "8f2839f25d086af736a60e9eeb907d3b93b6e0e5",
    "_cell_guid": "b1076dfc-b9ad-4769-8c92-a6c4dae69d19",
    "execution": {
     "iopub.status.busy": "2024-10-02T11:50:25.927682Z",
     "iopub.execute_input": "2024-10-02T11:50:25.928643Z",
     "iopub.status.idle": "2024-10-02T11:50:25.936764Z",
     "shell.execute_reply.started": "2024-10-02T11:50:25.928589Z",
     "shell.execute_reply": "2024-10-02T11:50:25.934781Z"
    },
    "trusted": true,
    "id": "Dmtitx5PN77B",
    "outputId": "258ea10d-b517-4a1b-c310-c205e1d2bd49",
    "colab": {
     "base_uri": "https://localhost:8080/"
    },
    "ExecuteTime": {
     "end_time": "2024-10-07T15:19:30.911758800Z",
     "start_time": "2024-10-07T15:19:30.801893700Z"
    }
   },
   "execution_count": 7,
   "outputs": [
    {
     "name": "stdout",
     "output_type": "stream",
     "text": [
      "Keys:\t [1, 'doi', 3.0]\n",
      "Values:\t ['unu', 2, {1, 2, 3, 4}]\n",
      "{1: 'unu', 'doi': 2, 3.0: {1, 2, 3, 4}}\n",
      "<class 'dict'>\n"
     ]
    }
   ]
  },
  {
   "cell_type": "markdown",
   "source": [
    "## Functions"
   ],
   "metadata": {
    "id": "EE6My2IjN77B"
   }
  },
  {
   "cell_type": "code",
   "source": [
    "def add_two_values(a, b):\n",
    "    return a + b\n",
    "\n",
    "\n",
    "add_two_values(5, 6)"
   ],
   "metadata": {
    "execution": {
     "iopub.status.busy": "2024-10-02T11:51:31.893551Z",
     "iopub.execute_input": "2024-10-02T11:51:31.894016Z",
     "iopub.status.idle": "2024-10-02T11:51:31.904305Z",
     "shell.execute_reply.started": "2024-10-02T11:51:31.893971Z",
     "shell.execute_reply": "2024-10-02T11:51:31.902815Z"
    },
    "trusted": true,
    "id": "nX8fadHKN77B",
    "outputId": "056ddaff-0d7b-4032-dd6d-de1da53b3b26",
    "colab": {
     "base_uri": "https://localhost:8080/"
    },
    "ExecuteTime": {
     "end_time": "2024-10-07T15:19:30.919755600Z",
     "start_time": "2024-10-07T15:19:30.807781100Z"
    }
   },
   "execution_count": 8,
   "outputs": [
    {
     "data": {
      "text/plain": "11"
     },
     "execution_count": 8,
     "metadata": {},
     "output_type": "execute_result"
    }
   ]
  },
  {
   "cell_type": "code",
   "source": [
    "def multiply(a: float, b: float) -> float:\n",
    "    return a * b\n",
    "\n",
    "\n",
    "multiply(4.0, 5.0)"
   ],
   "metadata": {
    "execution": {
     "iopub.status.busy": "2024-10-02T11:52:16.544522Z",
     "iopub.execute_input": "2024-10-02T11:52:16.545022Z",
     "iopub.status.idle": "2024-10-02T11:52:16.554614Z",
     "shell.execute_reply.started": "2024-10-02T11:52:16.544976Z",
     "shell.execute_reply": "2024-10-02T11:52:16.553091Z"
    },
    "trusted": true,
    "id": "ZsQjTrEAN77B",
    "outputId": "d6865f62-7636-4878-996a-95305ee81623",
    "colab": {
     "base_uri": "https://localhost:8080/"
    },
    "ExecuteTime": {
     "end_time": "2024-10-07T15:19:30.920754800Z",
     "start_time": "2024-10-07T15:19:30.815886300Z"
    }
   },
   "execution_count": 9,
   "outputs": [
    {
     "data": {
      "text/plain": "20.0"
     },
     "execution_count": 9,
     "metadata": {},
     "output_type": "execute_result"
    }
   ]
  },
  {
   "cell_type": "code",
   "source": [
    "multiply(\"AB\", 2)"
   ],
   "metadata": {
    "execution": {
     "iopub.status.busy": "2024-10-02T11:52:50.763543Z",
     "iopub.execute_input": "2024-10-02T11:52:50.76403Z",
     "iopub.status.idle": "2024-10-02T11:52:50.773893Z",
     "shell.execute_reply.started": "2024-10-02T11:52:50.763985Z",
     "shell.execute_reply": "2024-10-02T11:52:50.772157Z"
    },
    "trusted": true,
    "id": "7Nw6RLGEN77B",
    "outputId": "c3056dc5-d844-447a-e7f3-5bc2bd505b7d",
    "colab": {
     "base_uri": "https://localhost:8080/",
     "height": 35
    },
    "ExecuteTime": {
     "end_time": "2024-10-07T15:19:30.920754800Z",
     "start_time": "2024-10-07T15:19:30.823595300Z"
    }
   },
   "execution_count": 10,
   "outputs": [
    {
     "data": {
      "text/plain": "'ABAB'"
     },
     "execution_count": 10,
     "metadata": {},
     "output_type": "execute_result"
    }
   ]
  },
  {
   "cell_type": "markdown",
   "source": [
    "# Numpy"
   ],
   "metadata": {
    "id": "0s-6p0HkN77B"
   }
  },
  {
   "cell_type": "markdown",
   "source": [
    "Check: https://numpy.org/doc/stable/user/absolute_beginners.html"
   ],
   "metadata": {
    "id": "CCnrJDOSN77C"
   }
  },
  {
   "cell_type": "markdown",
   "source": [
    "### Installing 3rd party libraries"
   ],
   "metadata": {
    "id": "GFKeqvW9N77C"
   }
  },
  {
   "cell_type": "code",
   "source": [
    "%pip install numpy"
   ],
   "metadata": {
    "execution": {
     "iopub.status.busy": "2024-10-02T12:03:47.809067Z",
     "iopub.execute_input": "2024-10-02T12:03:47.809536Z",
     "iopub.status.idle": "2024-10-02T12:04:02.676853Z",
     "shell.execute_reply.started": "2024-10-02T12:03:47.809488Z",
     "shell.execute_reply": "2024-10-02T12:04:02.675064Z"
    },
    "trusted": true,
    "id": "Do-AheAqN77C",
    "outputId": "8031f61d-3ec7-4d08-b4a8-62e52760ebe5",
    "colab": {
     "base_uri": "https://localhost:8080/"
    },
    "ExecuteTime": {
     "end_time": "2024-10-07T15:19:33.972206900Z",
     "start_time": "2024-10-07T15:19:30.836757Z"
    }
   },
   "execution_count": 11,
   "outputs": [
    {
     "name": "stdout",
     "output_type": "stream",
     "text": [
      "Requirement already satisfied: numpy in c:\\users\\alex\\appdata\\local\\programs\\python\\python311\\lib\\site-packages (1.26.4)\n",
      "Note: you may need to restart the kernel to use updated packages.\n"
     ]
    },
    {
     "name": "stderr",
     "output_type": "stream",
     "text": [
      "\n",
      "[notice] A new release of pip is available: 24.0 -> 24.2\n",
      "[notice] To update, run: python.exe -m pip install --upgrade pip\n"
     ]
    }
   ]
  },
  {
   "cell_type": "code",
   "source": [
    "%pip install timed-decorator"
   ],
   "metadata": {
    "execution": {
     "iopub.status.busy": "2024-10-02T12:04:04.698732Z",
     "iopub.execute_input": "2024-10-02T12:04:04.699355Z",
     "iopub.status.idle": "2024-10-02T12:04:19.723462Z",
     "shell.execute_reply.started": "2024-10-02T12:04:04.699297Z",
     "shell.execute_reply": "2024-10-02T12:04:19.721813Z"
    },
    "trusted": true,
    "id": "4p6EbtLjN77C",
    "outputId": "cb194a4d-7254-4ea1-e445-f9ea2936b94c",
    "colab": {
     "base_uri": "https://localhost:8080/"
    },
    "ExecuteTime": {
     "end_time": "2024-10-07T15:19:37.740095600Z",
     "start_time": "2024-10-07T15:19:33.976206900Z"
    }
   },
   "execution_count": 12,
   "outputs": [
    {
     "name": "stdout",
     "output_type": "stream",
     "text": [
      "Collecting timed-decorator\n",
      "  Downloading timed_decorator-1.5.2-py3-none-any.whl.metadata (18 kB)\n",
      "Downloading timed_decorator-1.5.2-py3-none-any.whl (12 kB)\n",
      "Installing collected packages: timed-decorator\n",
      "Successfully installed timed-decorator-1.5.2\n",
      "Note: you may need to restart the kernel to use updated packages.\n"
     ]
    },
    {
     "name": "stderr",
     "output_type": "stream",
     "text": [
      "\n",
      "[notice] A new release of pip is available: 24.0 -> 24.2\n",
      "[notice] To update, run: python.exe -m pip install --upgrade pip\n"
     ]
    }
   ]
  },
  {
   "cell_type": "code",
   "source": [
    "import numpy as np\n",
    "from math import sqrt\n",
    "from timed_decorator.simple_timed import timed"
   ],
   "metadata": {
    "execution": {
     "iopub.status.busy": "2024-10-02T12:19:17.823585Z",
     "iopub.execute_input": "2024-10-02T12:19:17.82417Z",
     "iopub.status.idle": "2024-10-02T12:19:17.830611Z",
     "shell.execute_reply.started": "2024-10-02T12:19:17.824114Z",
     "shell.execute_reply": "2024-10-02T12:19:17.829095Z"
    },
    "trusted": true,
    "id": "1fJntYrkN77C",
    "ExecuteTime": {
     "start_time": "2024-10-07T15:19:37.739095600Z"
    }
   },
   "execution_count": 13,
   "outputs": []
  },
  {
   "cell_type": "code",
   "source": [
    "x = np.random.uniform(low=-5.5, high=5.5, size=(50,))\n",
    "x"
   ],
   "metadata": {
    "execution": {
     "iopub.status.busy": "2024-10-02T12:08:13.211484Z",
     "iopub.execute_input": "2024-10-02T12:08:13.212593Z",
     "iopub.status.idle": "2024-10-02T12:08:13.223296Z",
     "shell.execute_reply.started": "2024-10-02T12:08:13.212525Z",
     "shell.execute_reply": "2024-10-02T12:08:13.221925Z"
    },
    "trusted": true,
    "id": "6tJVb2RVN77C",
    "outputId": "e8d76a18-5a5a-4e5b-f870-c3ddf83f8212",
    "colab": {
     "base_uri": "https://localhost:8080/"
    }
   },
   "execution_count": 14,
   "outputs": [
    {
     "data": {
      "text/plain": "array([-3.35579265,  0.9546352 ,  0.62177839, -4.57735193, -0.51455709,\n       -1.67000769,  0.25687889, -2.56172292, -0.98765471,  2.98705161,\n       -2.96813261, -1.45973576,  0.36777996,  1.82298512,  0.5594974 ,\n        2.32583209,  2.31792878,  3.09000088, -4.16908648,  1.74728546,\n       -2.11932325, -0.56272698,  3.446967  , -3.20110322,  1.99524309,\n       -4.2897601 , -5.38319427, -1.11098571,  0.38073034,  2.08097408,\n       -2.75541836,  4.80440841, -3.67410616,  0.48309542, -4.44998223,\n       -4.18441979, -3.02821234, -2.15552277, -2.58141178, -2.26091427,\n        3.86337934, -0.5498615 ,  1.96897831,  5.20548486,  0.12164991,\n        3.90537372, -1.3218358 ,  1.90856075,  0.48377455, -1.83792733])"
     },
     "execution_count": 14,
     "metadata": {},
     "output_type": "execute_result"
    }
   ]
  },
  {
   "cell_type": "code",
   "source": [
    "x > 0"
   ],
   "metadata": {
    "execution": {
     "iopub.status.busy": "2024-10-02T12:08:20.88504Z",
     "iopub.execute_input": "2024-10-02T12:08:20.885553Z",
     "iopub.status.idle": "2024-10-02T12:08:20.895173Z",
     "shell.execute_reply.started": "2024-10-02T12:08:20.885509Z",
     "shell.execute_reply": "2024-10-02T12:08:20.894109Z"
    },
    "trusted": true,
    "id": "A1lC4YMON77C",
    "outputId": "2d6be9f9-02c7-41ce-b85e-bbe2316bd3b9",
    "colab": {
     "base_uri": "https://localhost:8080/"
    }
   },
   "execution_count": 15,
   "outputs": [
    {
     "data": {
      "text/plain": "array([False,  True,  True, False, False, False,  True, False, False,\n        True, False, False,  True,  True,  True,  True,  True,  True,\n       False,  True, False, False,  True, False,  True, False, False,\n       False,  True,  True, False,  True, False,  True, False, False,\n       False, False, False, False,  True, False,  True,  True,  True,\n        True, False,  True,  True, False])"
     },
     "execution_count": 15,
     "metadata": {},
     "output_type": "execute_result"
    }
   ]
  },
  {
   "cell_type": "code",
   "source": [
    "x[x > 0]"
   ],
   "metadata": {
    "execution": {
     "iopub.status.busy": "2024-10-02T12:08:31.800418Z",
     "iopub.execute_input": "2024-10-02T12:08:31.800889Z",
     "iopub.status.idle": "2024-10-02T12:08:31.81006Z",
     "shell.execute_reply.started": "2024-10-02T12:08:31.800844Z",
     "shell.execute_reply": "2024-10-02T12:08:31.80875Z"
    },
    "trusted": true,
    "id": "cSi7wI_jN77C",
    "outputId": "ef7f51d5-3df0-4f6d-e51f-51cca3c2964e",
    "colab": {
     "base_uri": "https://localhost:8080/"
    }
   },
   "execution_count": 16,
   "outputs": [
    {
     "data": {
      "text/plain": "array([0.9546352 , 0.62177839, 0.25687889, 2.98705161, 0.36777996,\n       1.82298512, 0.5594974 , 2.32583209, 2.31792878, 3.09000088,\n       1.74728546, 3.446967  , 1.99524309, 0.38073034, 2.08097408,\n       4.80440841, 0.48309542, 3.86337934, 1.96897831, 5.20548486,\n       0.12164991, 3.90537372, 1.90856075, 0.48377455])"
     },
     "execution_count": 16,
     "metadata": {},
     "output_type": "execute_result"
    }
   ]
  },
  {
   "cell_type": "code",
   "source": [
    "list(x)"
   ],
   "metadata": {
    "execution": {
     "iopub.status.busy": "2024-10-02T12:08:47.36438Z",
     "iopub.execute_input": "2024-10-02T12:08:47.364834Z",
     "iopub.status.idle": "2024-10-02T12:08:47.374292Z",
     "shell.execute_reply.started": "2024-10-02T12:08:47.364789Z",
     "shell.execute_reply": "2024-10-02T12:08:47.372842Z"
    },
    "trusted": true,
    "id": "9WcCYeb4N77C",
    "outputId": "e7788b5f-f4f7-445c-e343-344331d6bc8c",
    "colab": {
     "base_uri": "https://localhost:8080/"
    }
   },
   "execution_count": 17,
   "outputs": [
    {
     "data": {
      "text/plain": "[-3.355792651051157,\n 0.9546351984328503,\n 0.6217783948513116,\n -4.577351929334227,\n -0.5145570930779275,\n -1.6700076935945352,\n 0.25687888812815896,\n -2.5617229150577074,\n -0.9876547111933132,\n 2.987051609089068,\n -2.9681326108151813,\n -1.4597357610489112,\n 0.367779961996888,\n 1.8229851200774023,\n 0.5594974039788383,\n 2.325832086168628,\n 2.3179287794082386,\n 3.0900008780995876,\n -4.16908647995641,\n 1.7472854638369437,\n -2.119323248372832,\n -0.56272698314298,\n 3.446966997383557,\n -3.2011032208449857,\n 1.9952430850875755,\n -4.289760102008439,\n -5.383194266152336,\n -1.110985705866593,\n 0.38073034237539805,\n 2.080974077052087,\n -2.7554183639439467,\n 4.8044084125958335,\n -3.6741061605940804,\n 0.4830954232985718,\n -4.449982226104304,\n -4.1844197936848495,\n -3.028212342580002,\n -2.1555227744658954,\n -2.581411781064231,\n -2.2609142714749613,\n 3.86337933689099,\n -0.549861499195238,\n 1.9689783059153783,\n 5.2054848551501,\n 0.1216499104509472,\n 3.9053737243673616,\n -1.3218358009231412,\n 1.9085607475127615,\n 0.4837745532780655,\n -1.8379273274329946]"
     },
     "execution_count": 17,
     "metadata": {},
     "output_type": "execute_result"
    }
   ]
  },
  {
   "cell_type": "markdown",
   "source": [
    "## Comparing numpy arrays to python lists"
   ],
   "metadata": {
    "id": "rLM-vfVDN77C"
   }
  },
  {
   "cell_type": "code",
   "source": [
    "@timed(show_args=True, use_seconds=True)\n",
    "def normalize_np(x: np.ndarray) -> np.ndarray:\n",
    "    mean = np.mean(x)\n",
    "    std = np.std(x)\n",
    "    return (x - mean) / std\n",
    "\n",
    "\n",
    "@timed(show_args=True, use_seconds=True)\n",
    "def normalize_py(x: list) -> list:\n",
    "    mean = sum(x) / len(x)\n",
    "    var = sum([(i - mean) ** 2 for i in x]) / len(x)\n",
    "    std = sqrt(var)\n",
    "    return [(i - mean) / std for i in x]\n",
    "\n",
    "\n",
    "x = np.random.uniform(low=-5.5, high=5.5, size=(50000,)).astype(np.float64)\n",
    "y = list(x)\n",
    "normalized_x = normalize_np(x)\n",
    "normalized_y = normalize_py(y)\n",
    "assert np.allclose(normalized_x, normalized_y)"
   ],
   "metadata": {
    "execution": {
     "iopub.status.busy": "2024-10-02T12:23:10.974197Z",
     "iopub.execute_input": "2024-10-02T12:23:10.974691Z",
     "iopub.status.idle": "2024-10-02T12:23:11.440227Z",
     "shell.execute_reply.started": "2024-10-02T12:23:10.974645Z",
     "shell.execute_reply": "2024-10-02T12:23:11.43898Z"
    },
    "trusted": true,
    "id": "rQIw6SrzN77C",
    "outputId": "177255e1-765f-4e9b-d7bd-8dde1ad96e7f",
    "colab": {
     "base_uri": "https://localhost:8080/"
    }
   },
   "execution_count": 18,
   "outputs": [
    {
     "name": "stdout",
     "output_type": "stream",
     "text": [
      "normalize_np(ndarray(50000,)) -> total time: 0.000481900s\n",
      "normalize_py(list(float64)[50000]) -> total time: 0.015818000s\n"
     ]
    }
   ]
  },
  {
   "cell_type": "markdown",
   "source": [
    "#### Python is slower than numpy in general"
   ],
   "metadata": {
    "id": "SsAyhEIFN77C"
   }
  },
  {
   "cell_type": "code",
   "source": [
    "%%timeit\n",
    "\n",
    "np.min(x)"
   ],
   "metadata": {
    "execution": {
     "iopub.status.busy": "2024-10-02T12:25:52.182079Z",
     "iopub.execute_input": "2024-10-02T12:25:52.182556Z",
     "iopub.status.idle": "2024-10-02T12:25:53.975332Z",
     "shell.execute_reply.started": "2024-10-02T12:25:52.182507Z",
     "shell.execute_reply": "2024-10-02T12:25:53.974039Z"
    },
    "trusted": true,
    "id": "lnHnoOpIN77C",
    "outputId": "e547c993-2cde-460a-d162-cb3aa0e34c49",
    "colab": {
     "base_uri": "https://localhost:8080/"
    }
   },
   "execution_count": 19,
   "outputs": [
    {
     "name": "stdout",
     "output_type": "stream",
     "text": [
      "8.37 μs ± 129 ns per loop (mean ± std. dev. of 7 runs, 100,000 loops each)\n"
     ]
    }
   ]
  },
  {
   "cell_type": "code",
   "source": [
    "%%timeit\n",
    "\n",
    "min(y)"
   ],
   "metadata": {
    "execution": {
     "iopub.status.busy": "2024-10-02T12:25:57.127966Z",
     "iopub.execute_input": "2024-10-02T12:25:57.128432Z",
     "iopub.status.idle": "2024-10-02T12:25:59.452513Z",
     "shell.execute_reply.started": "2024-10-02T12:25:57.128388Z",
     "shell.execute_reply": "2024-10-02T12:25:59.451406Z"
    },
    "trusted": true,
    "id": "SX9aZKnFN77C",
    "outputId": "bef37356-5bfe-46f2-f5df-bc1097495b70",
    "colab": {
     "base_uri": "https://localhost:8080/"
    }
   },
   "execution_count": 20,
   "outputs": [
    {
     "name": "stdout",
     "output_type": "stream",
     "text": [
      "582 μs ± 8.33 μs per loop (mean ± std. dev. of 7 runs, 1,000 loops each)\n"
     ]
    }
   ]
  },
  {
   "cell_type": "code",
   "source": [
    "a = np.random.uniform(low=-5.5, high=5.5, size=(50,)).astype(np.float64)\n",
    "b = list(a)"
   ],
   "metadata": {
    "execution": {
     "iopub.status.busy": "2024-10-02T12:26:42.991777Z",
     "iopub.execute_input": "2024-10-02T12:26:42.992272Z",
     "iopub.status.idle": "2024-10-02T12:26:42.998492Z",
     "shell.execute_reply.started": "2024-10-02T12:26:42.992226Z",
     "shell.execute_reply": "2024-10-02T12:26:42.997284Z"
    },
    "trusted": true,
    "id": "ionViVvwN77C"
   },
   "execution_count": 21,
   "outputs": []
  },
  {
   "cell_type": "code",
   "source": [
    "%%timeit\n",
    "\n",
    "np.min(a)"
   ],
   "metadata": {
    "execution": {
     "iopub.status.busy": "2024-10-02T12:26:43.456859Z",
     "iopub.execute_input": "2024-10-02T12:26:43.457362Z",
     "iopub.status.idle": "2024-10-02T12:26:48.16646Z",
     "shell.execute_reply.started": "2024-10-02T12:26:43.457317Z",
     "shell.execute_reply": "2024-10-02T12:26:48.165185Z"
    },
    "trusted": true,
    "id": "d0-CmmEnN77C",
    "outputId": "f2317137-6a65-4627-b837-b47c5256fcdd",
    "colab": {
     "base_uri": "https://localhost:8080/"
    }
   },
   "execution_count": 22,
   "outputs": [
    {
     "name": "stdout",
     "output_type": "stream",
     "text": [
      "2.32 μs ± 41.9 ns per loop (mean ± std. dev. of 7 runs, 100,000 loops each)\n"
     ]
    }
   ]
  },
  {
   "cell_type": "code",
   "source": [
    "%%timeit\n",
    "\n",
    "min(b)"
   ],
   "metadata": {
    "execution": {
     "iopub.status.busy": "2024-10-02T12:26:48.168224Z",
     "iopub.execute_input": "2024-10-02T12:26:48.168601Z",
     "iopub.status.idle": "2024-10-02T12:26:50.625046Z",
     "shell.execute_reply.started": "2024-10-02T12:26:48.168545Z",
     "shell.execute_reply": "2024-10-02T12:26:50.62365Z"
    },
    "trusted": true,
    "id": "qwAy0mmKN77C",
    "outputId": "2ea05bbc-c747-45a8-d779-554abed80f66",
    "colab": {
     "base_uri": "https://localhost:8080/"
    }
   },
   "execution_count": 23,
   "outputs": [
    {
     "name": "stdout",
     "output_type": "stream",
     "text": [
      "653 ns ± 19.3 ns per loop (mean ± std. dev. of 7 runs, 1,000,000 loops each)\n"
     ]
    }
   ]
  },
  {
   "cell_type": "markdown",
   "source": [
    "## Inplace operations\n",
    "Use them when you can safely modify the input"
   ],
   "metadata": {
    "id": "blcMfOKaN77D"
   }
  },
  {
   "cell_type": "code",
   "source": [
    "@timed(show_args=True, use_seconds=True)\n",
    "def normalize_np_(x: np.ndarray) -> np.ndarray:\n",
    "    mean = np.mean(x)\n",
    "    std = np.std(x)\n",
    "    x -= mean\n",
    "    x /= std\n",
    "    return x"
   ],
   "metadata": {
    "execution": {
     "iopub.status.busy": "2024-10-02T12:31:42.025848Z",
     "iopub.execute_input": "2024-10-02T12:31:42.026297Z",
     "iopub.status.idle": "2024-10-02T12:31:42.032887Z",
     "shell.execute_reply.started": "2024-10-02T12:31:42.026254Z",
     "shell.execute_reply": "2024-10-02T12:31:42.031665Z"
    },
    "trusted": true,
    "id": "_HxkpvD7N77D"
   },
   "execution_count": 24,
   "outputs": []
  },
  {
   "cell_type": "code",
   "source": [
    "x = np.random.rand(1000, 20000)\n",
    "\n",
    "# This creates a copy\n",
    "y = normalize_np(x)\n",
    "assert not np.allclose(x, y)\n",
    "\n",
    "# Inplace operations modify the original array! But they are faster and use less memory.\n",
    "z = normalize_np_(x)\n",
    "assert np.array_equal(x, z)"
   ],
   "metadata": {
    "execution": {
     "iopub.status.busy": "2024-10-02T12:31:42.183658Z",
     "iopub.execute_input": "2024-10-02T12:31:42.184088Z",
     "iopub.status.idle": "2024-10-02T12:31:42.643647Z",
     "shell.execute_reply.started": "2024-10-02T12:31:42.184046Z",
     "shell.execute_reply": "2024-10-02T12:31:42.642302Z"
    },
    "trusted": true,
    "id": "fmN8W0qGN77D",
    "outputId": "fad7ea35-d4bb-4f1f-86a7-0bd95adcd1dc",
    "colab": {
     "base_uri": "https://localhost:8080/"
    }
   },
   "execution_count": 25,
   "outputs": [
    {
     "name": "stdout",
     "output_type": "stream",
     "text": [
      "normalize_np(ndarray(1000, 20000)) -> total time: 0.184175800s\n",
      "normalize_np_(ndarray(1000, 20000)) -> total time: 0.131637800s\n"
     ]
    }
   ]
  }
 ]
}
