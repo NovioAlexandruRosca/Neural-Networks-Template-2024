{
 "metadata": {
  "kernelspec": {
   "language": "python",
   "display_name": "Python 3",
   "name": "python3"
  },
  "language_info": {
   "name": "python",
   "version": "3.10.14",
   "mimetype": "text/x-python",
   "codemirror_mode": {
    "name": "ipython",
    "version": 3
   },
   "pygments_lexer": "ipython3",
   "nbconvert_exporter": "python",
   "file_extension": ".py"
  },
  "kaggle": {
   "accelerator": "none",
   "dataSources": [],
   "dockerImageVersionId": 30775,
   "isInternetEnabled": true,
   "language": "python",
   "sourceType": "notebook",
   "isGpuEnabled": false
  },
  "colab": {
   "name": "RN-2024-Lab01",
   "provenance": [],
   "include_colab_link": true
  }
 },
 "nbformat_minor": 0,
 "nbformat": 4,
 "cells": [
  {
   "cell_type": "markdown",
   "metadata": {
    "id": "view-in-github",
    "colab_type": "text"
   },
   "source": [
    "<a href=\"https://colab.research.google.com/github/Tensor-Reloaded/Neural-Networks-Template-2024/blob/main/Lab02/NumpyExcercises.ipynb\" target=\"_parent\"><img src=\"https://colab.research.google.com/assets/colab-badge.svg\" alt=\"Open In Colab\"/></a>"
   ]
  },
  {
   "cell_type": "markdown",
   "source": [
    "# Excercises with numpy"
   ],
   "metadata": {
    "id": "1osmmLv1t8Vc"
   }
  },
  {
   "cell_type": "code",
   "source": [
    "%pip install timed-decorator"
   ],
   "metadata": {
    "colab": {
     "base_uri": "https://localhost:8080/"
    },
    "id": "R-psdy852TWD",
    "outputId": "81c31bfd-d099-4422-810a-699612394d98",
    "ExecuteTime": {
     "end_time": "2024-10-14T15:30:48.969842200Z",
     "start_time": "2024-10-14T15:30:45.468974500Z"
    }
   },
   "execution_count": 25,
   "outputs": [
    {
     "name": "stdout",
     "output_type": "stream",
     "text": [
      "Requirement already satisfied: timed-decorator in c:\\users\\alex\\appdata\\local\\programs\\python\\python311\\lib\\site-packages (1.5.2)\n",
      "Note: you may need to restart the kernel to use updated packages.\n"
     ]
    },
    {
     "name": "stderr",
     "output_type": "stream",
     "text": [
      "\n",
      "[notice] A new release of pip is available: 24.0 -> 24.2\n",
      "[notice] To update, run: python.exe -m pip install --upgrade pip\n"
     ]
    }
   ]
  },
  {
   "cell_type": "code",
   "source": [
    "import numpy as np\n",
    "from sklearn.metrics import confusion_matrix, accuracy_score, f1_score\n",
    "from timed_decorator.simple_timed import timed\n",
    "from typing import Tuple"
   ],
   "metadata": {
    "id": "Pv2iHv15vu67",
    "ExecuteTime": {
     "end_time": "2024-10-14T15:30:48.971843900Z",
     "start_time": "2024-10-14T15:30:48.968270800Z"
    }
   },
   "execution_count": 26,
   "outputs": []
  },
  {
   "cell_type": "code",
   "source": [
    "predicted = np.array([\n",
    "    1,1,1,0,1,0,1,1,0,0\n",
    "])\n",
    "actual = np.array([\n",
    "    1,1,1,1,0,0,1,0,0,0\n",
    "])\n",
    "\n",
    "big_size = 500000\n",
    "big_actual = np.repeat(actual, big_size)\n",
    "big_predicted = np.repeat(predicted, big_size)\n"
   ],
   "metadata": {
    "id": "7OOZ-UGxt77b",
    "ExecuteTime": {
     "end_time": "2024-10-14T15:30:49.024842Z",
     "start_time": "2024-10-14T15:30:48.971843900Z"
    }
   },
   "execution_count": 27,
   "outputs": []
  },
  {
   "cell_type": "markdown",
   "source": [
    "If you are not familiar with the confusion matrix for binary classification, check https://www.geeksforgeeks.org/confusion-matrix-machine-learning/#what-is-a-confusion-matrix"
   ],
   "metadata": {
    "id": "WR9T8rfg94YQ"
   }
  },
  {
   "cell_type": "markdown",
   "source": [
    "### Exercise 1\n",
    "\n",
    "Implement a method to retrieve the confusion matrix values using numpy operations. Aim to make your method faster than the sklearn implementation."
   ],
   "metadata": {
    "id": "DlvLoCK835ta"
   }
  },
  {
   "cell_type": "code",
   "source": [
    "@timed(use_seconds=True, show_args=True)\n",
    "def tp_fp_fn_tn_sklearn(gt: np.ndarray, pred: np.ndarray) -> Tuple[int, ...]:\n",
    "    tn, fp, fn, tp = confusion_matrix(gt, pred).ravel()\n",
    "    return tp, fp, fn, tn\n",
    "\n",
    "\n",
    "@timed(use_seconds=True, show_args=True)\n",
    "def tp_fp_fn_tn_numpy(gt: np.ndarray, pred: np.ndarray) -> Tuple[int, ...]:\n",
    "    tp = np.sum((gt == 1) & (pred == 1))\n",
    "    tn = np.sum((gt == 0) & (pred == 0))\n",
    "    fp = np.sum((gt == 0) & (pred == 1))\n",
    "    fn = np.sum((gt == 1) & (pred == 0))\n",
    "    return tp, fp, fn, tn\n",
    "\n",
    "assert tp_fp_fn_tn_sklearn(actual, predicted) == tp_fp_fn_tn_numpy(actual, predicted)"
   ],
   "metadata": {
    "id": "KXCV8jvPydpC",
    "ExecuteTime": {
     "end_time": "2024-10-14T15:30:49.370500400Z",
     "start_time": "2024-10-14T15:30:49.018841400Z"
    }
   },
   "execution_count": 28,
   "outputs": [
    {
     "name": "stdout",
     "output_type": "stream",
     "text": [
      "tp_fp_fn_tn_sklearn(ndarray(10,), ndarray(10,)) -> total time: 0.001074800s\n",
      "tp_fp_fn_tn_numpy(ndarray(10,), ndarray(10,)) -> total time: 0.000122600s\n"
     ]
    }
   ]
  },
  {
   "cell_type": "code",
   "source": [
    "rez_1 = tp_fp_fn_tn_sklearn(big_actual, big_predicted)\n",
    "rez_2 = tp_fp_fn_tn_numpy(big_actual, big_predicted)\n",
    "\n",
    "assert rez_1 == rez_2"
   ],
   "metadata": {
    "id": "qlxFQ_1Pywjb",
    "ExecuteTime": {
     "end_time": "2024-10-14T15:30:50.012117100Z",
     "start_time": "2024-10-14T15:30:49.371499800Z"
    }
   },
   "execution_count": 29,
   "outputs": [
    {
     "name": "stdout",
     "output_type": "stream",
     "text": [
      "tp_fp_fn_tn_sklearn(ndarray(5000000,), ndarray(5000000,)) -> total time: 0.436352400s\n",
      "tp_fp_fn_tn_numpy(ndarray(5000000,), ndarray(5000000,)) -> total time: 0.034687800s\n"
     ]
    }
   ]
  },
  {
   "cell_type": "markdown",
   "source": [
    "```\n",
    "tp_fp_fn_tn_sklearn(ndarray(5000000,), ndarray(5000000,)) -> total time: 1.362611559s\n",
    "tp_fp_fn_tn_numpy(ndarray(5000000,), ndarray(5000000,)) -> total time: 0.061580794s\n",
    "```"
   ],
   "metadata": {
    "id": "LuJUVV1c_Iu8"
   }
  },
  {
   "cell_type": "markdown",
   "source": [
    "### Exercise 2\n",
    "\n",
    "Implement a method to retrieve the calculate the accuracy using numpy operations."
   ],
   "metadata": {
    "id": "9VtOouGY-dGU"
   }
  },
  {
   "cell_type": "markdown",
   "source": [
    "Accuracy = $\\frac{TP + TN}{TP + FP + FN + TN}$"
   ],
   "metadata": {
    "id": "FrOvVlQi6Vqx"
   }
  },
  {
   "cell_type": "code",
   "source": [
    "@timed(use_seconds=True, show_args=True)\n",
    "def accuracy_sklearn(gt: np.ndarray, pred: np.ndarray) -> float:\n",
    "    return accuracy_score(gt, pred)\n",
    "\n",
    "\n",
    "@timed(use_seconds=True, show_args=True)\n",
    "def accuracy_numpy(gt: np.ndarray, pred: np.ndarray) -> float:\n",
    "    tp, fp, fn, tn = tp_fp_fn_tn_numpy(gt, pred)\n",
    "    return np.divide(np.sum([tp, tn]), np.sum([tp, tn, fp, fn]))\n",
    "\n",
    "assert accuracy_sklearn(actual, predicted) == accuracy_numpy(actual, predicted)"
   ],
   "metadata": {
    "id": "FvGCS4wo149M",
    "ExecuteTime": {
     "end_time": "2024-10-14T15:30:50.251710Z",
     "start_time": "2024-10-14T15:30:50.013117Z"
    }
   },
   "execution_count": 30,
   "outputs": [
    {
     "name": "stdout",
     "output_type": "stream",
     "text": [
      "0.7\n",
      "accuracy_sklearn(ndarray(10,), ndarray(10,)) -> total time: 0.001105000s\n",
      "tp_fp_fn_tn_numpy(ndarray(10,), ndarray(10,)) -> total time: 0.000076000s\n",
      "0.7\n",
      "accuracy_numpy(ndarray(10,), ndarray(10,)) -> total time: 0.074120400s\n"
     ]
    }
   ]
  },
  {
   "cell_type": "code",
   "source": [
    "rez_1 = accuracy_sklearn(big_actual, big_predicted)\n",
    "rez_2 = accuracy_numpy(big_actual, big_predicted)\n",
    "\n",
    "assert np.isclose(rez_1, rez_2)"
   ],
   "metadata": {
    "id": "yYwMTAdX13RU",
    "ExecuteTime": {
     "end_time": "2024-10-14T15:30:50.980269600Z",
     "start_time": "2024-10-14T15:30:50.252709900Z"
    }
   },
   "execution_count": 31,
   "outputs": [
    {
     "name": "stdout",
     "output_type": "stream",
     "text": [
      "0.7\n",
      "accuracy_sklearn(ndarray(5000000,), ndarray(5000000,)) -> total time: 0.447557400s\n",
      "tp_fp_fn_tn_numpy(ndarray(5000000,), ndarray(5000000,)) -> total time: 0.035252500s\n",
      "0.7\n",
      "accuracy_numpy(ndarray(5000000,), ndarray(5000000,)) -> total time: 0.111431300s\n"
     ]
    }
   ]
  },
  {
   "cell_type": "markdown",
   "source": [
    "```\n",
    "accuracy_sklearn(ndarray(5000000,), ndarray(5000000,)) -> total time: 0.737005607s\n",
    "accuracy_numpy(ndarray(5000000,), ndarray(5000000,)) -> total time: 0.045633154s\n",
    "```"
   ],
   "metadata": {
    "id": "Y4vOxFRX_DbN"
   }
  },
  {
   "cell_type": "markdown",
   "source": [
    "## Excercise 3\n",
    "\n",
    "Implement a method to calculate the F1-Score using numpy operations. Be careful at corner cases (divide by 0)."
   ],
   "metadata": {
    "id": "9a4kiUip-iaB"
   }
  },
  {
   "cell_type": "markdown",
   "source": [
    "Precision = $\\frac{TP}{TP + FP}$\n",
    "\n",
    "Recall = $\\frac{TP}{TP + FN}$\n",
    "\n",
    "F1-Score = $2 \\cdot \\frac{Precision \\cdot Recall}{Precision + Recall}$"
   ],
   "metadata": {
    "id": "xlVLJUKe6nLf"
   }
  },
  {
   "cell_type": "code",
   "source": [
    "@timed(use_seconds=True, show_args=True)\n",
    "def f1_score_sklearn(gt: np.ndarray, pred: np.ndarray) -> float:\n",
    "    return f1_score(gt, pred)\n",
    "\n",
    "\n",
    "@timed(use_seconds=True, show_args=True)\n",
    "def f1_score_numpy(gt: np.ndarray, pred: np.ndarray) -> float:\n",
    "    tp, fp, fn, _ = tp_fp_fn_tn_numpy(gt, pred)\n",
    "\n",
    "    precision = np.divide(tp, (tp + fp), out=np.zeros_like(tp, dtype=float), where=(tp + fp) != 0)\n",
    "    recall = np.divide(tp, (tp + fn), out=np.zeros_like(tp, dtype=float), where=(tp + fn) != 0)\n",
    "    return np.divide(2 * precision * recall, precision + recall, out=np.zeros_like(precision, dtype=float), where=(precision + recall) != 0)\n",
    "\n",
    "\n",
    "assert f1_score_sklearn(actual, predicted) == f1_score_numpy(actual, predicted)"
   ],
   "metadata": {
    "id": "bf26jyp65jWp",
    "ExecuteTime": {
     "end_time": "2024-10-14T15:30:51.238707200Z",
     "start_time": "2024-10-14T15:30:50.983791700Z"
    }
   },
   "execution_count": 32,
   "outputs": [
    {
     "name": "stdout",
     "output_type": "stream",
     "text": [
      "0.7272727272727273\n",
      "f1_score_sklearn(ndarray(10,), ndarray(10,)) -> total time: 0.003391300s\n",
      "tp_fp_fn_tn_numpy(ndarray(10,), ndarray(10,)) -> total time: 0.000088300s\n",
      "0.7272727272727272\n",
      "f1_score_numpy(ndarray(10,), ndarray(10,)) -> total time: 0.076485400s\n"
     ]
    },
    {
     "ename": "AssertionError",
     "evalue": "",
     "output_type": "error",
     "traceback": [
      "\u001B[1;31m---------------------------------------------------------------------------\u001B[0m",
      "\u001B[1;31mAssertionError\u001B[0m                            Traceback (most recent call last)",
      "Cell \u001B[1;32mIn[32], line 17\u001B[0m\n\u001B[0;32m     13\u001B[0m     \u001B[38;5;28mprint\u001B[39m(np\u001B[38;5;241m.\u001B[39mdivide(\u001B[38;5;241m2\u001B[39m \u001B[38;5;241m*\u001B[39m precision \u001B[38;5;241m*\u001B[39m recall, precision \u001B[38;5;241m+\u001B[39m recall, out\u001B[38;5;241m=\u001B[39mnp\u001B[38;5;241m.\u001B[39mzeros_like(precision, dtype\u001B[38;5;241m=\u001B[39m\u001B[38;5;28mfloat\u001B[39m), where\u001B[38;5;241m=\u001B[39m(precision \u001B[38;5;241m+\u001B[39m recall) \u001B[38;5;241m!=\u001B[39m \u001B[38;5;241m0\u001B[39m))\n\u001B[0;32m     14\u001B[0m     \u001B[38;5;28;01mreturn\u001B[39;00m np\u001B[38;5;241m.\u001B[39mdivide(\u001B[38;5;241m2\u001B[39m \u001B[38;5;241m*\u001B[39m precision \u001B[38;5;241m*\u001B[39m recall, precision \u001B[38;5;241m+\u001B[39m recall, out\u001B[38;5;241m=\u001B[39mnp\u001B[38;5;241m.\u001B[39mzeros_like(precision, dtype\u001B[38;5;241m=\u001B[39m\u001B[38;5;28mfloat\u001B[39m), where\u001B[38;5;241m=\u001B[39m(precision \u001B[38;5;241m+\u001B[39m recall) \u001B[38;5;241m!=\u001B[39m \u001B[38;5;241m0\u001B[39m)\n\u001B[1;32m---> 17\u001B[0m \u001B[38;5;28;01massert\u001B[39;00m f1_score_sklearn(actual, predicted) \u001B[38;5;241m==\u001B[39m f1_score_numpy(actual, predicted)\n",
      "\u001B[1;31mAssertionError\u001B[0m: "
     ]
    }
   ]
  },
  {
   "cell_type": "code",
   "source": [
    "rez_1 = f1_score_sklearn(big_actual, big_predicted)\n",
    "rez_2 = f1_score_numpy(big_actual, big_predicted)\n",
    "\n",
    "assert np.isclose(rez_1, rez_2)"
   ],
   "metadata": {
    "id": "a2LsucKI5rB4"
   },
   "execution_count": null,
   "outputs": []
  },
  {
   "cell_type": "markdown",
   "source": [
    "```\n",
    "f1_score_sklearn(ndarray(5000000,), ndarray(5000000,)) -> total time: 5.300984584s\n",
    "f1_score_numpy(ndarray(5000000,), ndarray(5000000,)) -> total time: 0.042523483s\n",
    "```"
   ],
   "metadata": {
    "id": "uVLThSs4-9GP"
   }
  }
 ]
}
